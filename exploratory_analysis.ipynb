{
 "cells": [
  {
   "cell_type": "markdown",
   "metadata": {},
   "source": [
    "This notebook contains a bit of exploratory analysis of the ionosphere dataset.\n",
    "\n",
    "Let's first load a couple of the libraries that well be needed for the exploratory analysis."
   ]
  },
  {
   "cell_type": "code",
   "execution_count": 4,
   "metadata": {
    "collapsed": false
   },
   "outputs": [
    {
     "name": "stderr",
     "output_type": "stream",
     "text": [
      "Vendor:  Continuum Analytics, Inc.\n",
      "Package: mkl\n",
      "Message: trial mode expires in 23 days\n"
     ]
    }
   ],
   "source": [
    "import numpy as np\n",
    "import pandas as pd\n",
    "import matplotlib.pyplot as plt\n",
    "\n",
    "from sklearn.decomposition import PCA\n",
    "\n",
    "%matplotlib inline"
   ]
  },
  {
   "cell_type": "markdown",
   "metadata": {},
   "source": [
    "The original data was downloaded and saved in ionosphere.txt and afterwards reshaped into a  .csv-file with the preparing_data.py script. The only difference between the original dataset and ionosphere_processed.csv is the format. I will use the latter one to explore some parts of the data."
   ]
  },
  {
   "cell_type": "code",
   "execution_count": 5,
   "metadata": {
    "collapsed": true
   },
   "outputs": [],
   "source": [
    "data = pd.read_csv('ionosphere_processed.csv', index_col=0)\n",
    "n_rows, n_cols = data.shape"
   ]
  },
  {
   "cell_type": "markdown",
   "metadata": {},
   "source": [
    "Pandas DataFrames come with a useful .describe() method to explore the variables assumed to be in the columns."
   ]
  },
  {
   "cell_type": "code",
   "execution_count": 6,
   "metadata": {
    "collapsed": false
   },
   "outputs": [
    {
     "data": {
      "text/html": [
       "<div>\n",
       "<table border=\"1\" class=\"dataframe\">\n",
       "  <thead>\n",
       "    <tr style=\"text-align: right;\">\n",
       "      <th></th>\n",
       "      <th>0</th>\n",
       "      <th>1</th>\n",
       "      <th>2</th>\n",
       "      <th>3</th>\n",
       "      <th>4</th>\n",
       "      <th>5</th>\n",
       "      <th>6</th>\n",
       "    </tr>\n",
       "  </thead>\n",
       "  <tbody>\n",
       "    <tr>\n",
       "      <th>count</th>\n",
       "      <td>351.000000</td>\n",
       "      <td>351</td>\n",
       "      <td>351.000000</td>\n",
       "      <td>351.000000</td>\n",
       "      <td>351.000000</td>\n",
       "      <td>351.000000</td>\n",
       "      <td>351.000000</td>\n",
       "    </tr>\n",
       "    <tr>\n",
       "      <th>mean</th>\n",
       "      <td>0.891738</td>\n",
       "      <td>0</td>\n",
       "      <td>0.641342</td>\n",
       "      <td>0.044372</td>\n",
       "      <td>0.601068</td>\n",
       "      <td>0.115889</td>\n",
       "      <td>0.550095</td>\n",
       "    </tr>\n",
       "    <tr>\n",
       "      <th>std</th>\n",
       "      <td>0.311155</td>\n",
       "      <td>0</td>\n",
       "      <td>0.497708</td>\n",
       "      <td>0.441435</td>\n",
       "      <td>0.519862</td>\n",
       "      <td>0.460810</td>\n",
       "      <td>0.492654</td>\n",
       "    </tr>\n",
       "    <tr>\n",
       "      <th>min</th>\n",
       "      <td>0.000000</td>\n",
       "      <td>0</td>\n",
       "      <td>-1.000000</td>\n",
       "      <td>-1.000000</td>\n",
       "      <td>-1.000000</td>\n",
       "      <td>-1.000000</td>\n",
       "      <td>-1.000000</td>\n",
       "    </tr>\n",
       "    <tr>\n",
       "      <th>25%</th>\n",
       "      <td>1.000000</td>\n",
       "      <td>0</td>\n",
       "      <td>0.472135</td>\n",
       "      <td>-0.064735</td>\n",
       "      <td>0.412660</td>\n",
       "      <td>-0.024795</td>\n",
       "      <td>0.211310</td>\n",
       "    </tr>\n",
       "    <tr>\n",
       "      <th>50%</th>\n",
       "      <td>1.000000</td>\n",
       "      <td>0</td>\n",
       "      <td>0.871110</td>\n",
       "      <td>0.016310</td>\n",
       "      <td>0.809200</td>\n",
       "      <td>0.022800</td>\n",
       "      <td>0.728730</td>\n",
       "    </tr>\n",
       "    <tr>\n",
       "      <th>75%</th>\n",
       "      <td>1.000000</td>\n",
       "      <td>0</td>\n",
       "      <td>1.000000</td>\n",
       "      <td>0.194185</td>\n",
       "      <td>1.000000</td>\n",
       "      <td>0.334655</td>\n",
       "      <td>0.969240</td>\n",
       "    </tr>\n",
       "    <tr>\n",
       "      <th>max</th>\n",
       "      <td>1.000000</td>\n",
       "      <td>0</td>\n",
       "      <td>1.000000</td>\n",
       "      <td>1.000000</td>\n",
       "      <td>1.000000</td>\n",
       "      <td>1.000000</td>\n",
       "      <td>1.000000</td>\n",
       "    </tr>\n",
       "  </tbody>\n",
       "</table>\n",
       "</div>"
      ],
      "text/plain": [
       "                0    1           2           3           4           5  \\\n",
       "count  351.000000  351  351.000000  351.000000  351.000000  351.000000   \n",
       "mean     0.891738    0    0.641342    0.044372    0.601068    0.115889   \n",
       "std      0.311155    0    0.497708    0.441435    0.519862    0.460810   \n",
       "min      0.000000    0   -1.000000   -1.000000   -1.000000   -1.000000   \n",
       "25%      1.000000    0    0.472135   -0.064735    0.412660   -0.024795   \n",
       "50%      1.000000    0    0.871110    0.016310    0.809200    0.022800   \n",
       "75%      1.000000    0    1.000000    0.194185    1.000000    0.334655   \n",
       "max      1.000000    0    1.000000    1.000000    1.000000    1.000000   \n",
       "\n",
       "                6  \n",
       "count  351.000000  \n",
       "mean     0.550095  \n",
       "std      0.492654  \n",
       "min     -1.000000  \n",
       "25%      0.211310  \n",
       "50%      0.728730  \n",
       "75%      0.969240  \n",
       "max      1.000000  "
      ]
     },
     "execution_count": 6,
     "metadata": {},
     "output_type": "execute_result"
    }
   ],
   "source": [
    "data_descript = data.describe()\n",
    "data_descript.iloc[:, :7]             # not showing all of them for better visibility"
   ]
  },
  {
   "cell_type": "markdown",
   "metadata": {},
   "source": [
    "The second feature appears to be all zeros for each observation. It can safely be dropped, but before I do that, I will check if there are other features for which that is the case. For any feature not including any information, the columnwise sum of the data descriptions above should equal 351.0 (i.e., the number of observations from the 'count' row)."
   ]
  },
  {
   "cell_type": "code",
   "execution_count": 7,
   "metadata": {
    "collapsed": false
   },
   "outputs": [
    {
     "data": {
      "text/html": [
       "<div>\n",
       "<table border=\"1\" class=\"dataframe\">\n",
       "  <thead>\n",
       "    <tr style=\"text-align: right;\">\n",
       "      <th></th>\n",
       "      <th>1</th>\n",
       "    </tr>\n",
       "  </thead>\n",
       "  <tbody>\n",
       "    <tr>\n",
       "      <th>count</th>\n",
       "      <td>351</td>\n",
       "    </tr>\n",
       "    <tr>\n",
       "      <th>mean</th>\n",
       "      <td>0</td>\n",
       "    </tr>\n",
       "    <tr>\n",
       "      <th>std</th>\n",
       "      <td>0</td>\n",
       "    </tr>\n",
       "    <tr>\n",
       "      <th>min</th>\n",
       "      <td>0</td>\n",
       "    </tr>\n",
       "    <tr>\n",
       "      <th>25%</th>\n",
       "      <td>0</td>\n",
       "    </tr>\n",
       "    <tr>\n",
       "      <th>50%</th>\n",
       "      <td>0</td>\n",
       "    </tr>\n",
       "    <tr>\n",
       "      <th>75%</th>\n",
       "      <td>0</td>\n",
       "    </tr>\n",
       "    <tr>\n",
       "      <th>max</th>\n",
       "      <td>0</td>\n",
       "    </tr>\n",
       "  </tbody>\n",
       "</table>\n",
       "</div>"
      ],
      "text/plain": [
       "         1\n",
       "count  351\n",
       "mean     0\n",
       "std      0\n",
       "min      0\n",
       "25%      0\n",
       "50%      0\n",
       "75%      0\n",
       "max      0"
      ]
     },
     "execution_count": 7,
     "metadata": {},
     "output_type": "execute_result"
    }
   ],
   "source": [
    "data_descript.loc[:, ~(data_descript.sum(axis=0) > 351.0)]"
   ]
  },
  {
   "cell_type": "markdown",
   "metadata": {},
   "source": [
    "It looks like only the second feature is redundant. Getting rid of it:"
   ]
  },
  {
   "cell_type": "code",
   "execution_count": 8,
   "metadata": {
    "collapsed": false
   },
   "outputs": [],
   "source": [
    "data.drop('1', axis=1, inplace=True)"
   ]
  },
  {
   "cell_type": "markdown",
   "metadata": {
    "collapsed": true
   },
   "source": [
    "Now I will explore (some of) the variables a bit using histograms, visualizing their distributions by target variable. (Note: There are functions within pandas to do this, but as a learning exercise I will write the various functions myself.)\n",
    "First, we need a histogram function."
   ]
  },
  {
   "cell_type": "code",
   "execution_count": 9,
   "metadata": {
    "collapsed": false
   },
   "outputs": [],
   "source": [
    "def heaviside(n):\n",
    "    if n >= 0:\n",
    "        return(1)\n",
    "    else:\n",
    "        return(0)\n",
    "    \n",
    "def binned_histogram(series, n_bins, min_val=None, max_val=None):\n",
    "    if min_val == None:\n",
    "        min_val = min(series)\n",
    "    if max_val == None:\n",
    "        max_val = max(series)\n",
    "    if max_val < min_val:\n",
    "        min_val, max_val = max_val, min_val\n",
    "    if min_val == max_val:\n",
    "        return({(min_val, max_val): len(series)}, max_val / n_bins)\n",
    "    \n",
    "    bin_width = (max_val - min_val) / n_bins\n",
    "    bin_counts = {(min_val + bin_width*n,\n",
    "                   min_val + bin_width*(n + 1)): 0\n",
    "                  for n in range(n_bins)}\n",
    "    bin_counts[(min_val - bin_width, min_val)] = 0\n",
    "    for partition in bin_counts.keys():\n",
    "        accum = 0\n",
    "        for sample in series:\n",
    "            accum += (heaviside(sample - partition[1]) - \n",
    "                      heaviside(sample - (partition[1] + bin_width)))\n",
    "        bin_counts[partition] = accum\n",
    "        # Explanation: the heaviside() function is equal to 1 if\n",
    "        # the input is >= 0, and 0 otherwise. partition[1] is the \n",
    "        # upper limit of the respective bin in the histogram. if \n",
    "        # the first heaviside is positive, i.e. sample - partition[1]\n",
    "        # is >= 0, and the second heaviside is 0, i.e. \n",
    "        # sample - partition[1] + bin_width (which is the upper limit \n",
    "        # of the next bin) < 0, then the count in that bin is incremented\n",
    "        # by 1. if both heavisides are 0, then the sample belongs in\n",
    "        # a different bin because it is smaller than both upper limits;\n",
    "        # likewise, if both heavisides are 1, then the sample is higher\n",
    "        # than both upper limits and also does not belong in that bin.\n",
    "    return(bin_counts, bin_width)"
   ]
  },
  {
   "cell_type": "code",
   "execution_count": 10,
   "metadata": {
    "collapsed": false
   },
   "outputs": [],
   "source": [
    "counts, width = binned_histogram(series=data['3'], n_bins=100)"
   ]
  },
  {
   "cell_type": "markdown",
   "metadata": {},
   "source": [
    "The function runs without problems, but does it properly calculate a binned histogram? Let's visualize it."
   ]
  },
  {
   "cell_type": "code",
   "execution_count": 11,
   "metadata": {
    "collapsed": false
   },
   "outputs": [],
   "source": [
    "def plot_histogram(bin_counts, bin_width):\n",
    "    sorted_bin_keys = sorted(bin_counts.keys())\n",
    "    x_min = sorted_bin_keys[0][0]\n",
    "    x_max = sorted_bin_keys[-1][1]\n",
    "    data_pairs = sorted([(bin[0], count) for bin, count in bin_counts.items()])\n",
    "    x, y = zip(*data_pairs)\n",
    "    plt.figure(figsize=(7, 4))\n",
    "    plt.xlim(x_min, x_max)\n",
    "    plt.bar(left=x, height=y, width=bin_width, alpha=.5)\n",
    "    plt.show()\n",
    "    plt.close('all')"
   ]
  },
  {
   "cell_type": "code",
   "execution_count": 12,
   "metadata": {
    "collapsed": false
   },
   "outputs": [
    {
     "data": {
      "image/png": "[encoded data removed]",
      "text/plain": [
       "<matplotlib.figure.Figure at 0x591d080>"
      ]
     },
     "metadata": {},
     "output_type": "display_data"
    }
   ],
   "source": [
    "plot_histogram(counts, width)"
   ]
  },
  {
   "cell_type": "markdown",
   "metadata": {},
   "source": [
    "Certainly looks like a histogram alright. A quick comparison with the pandas function confirms it:"
   ]
  },
  {
   "cell_type": "code",
   "execution_count": 13,
   "metadata": {
    "collapsed": false
   },
   "outputs": [
    {
     "data": {
      "text/plain": [
       "<matplotlib.axes._subplots.AxesSubplot at 0xb5674e0>"
      ]
     },
     "execution_count": 13,
     "metadata": {},
     "output_type": "execute_result"
    },
    {
     "data": {
      "image/png": "[encoded data removed]",
      "text/plain": [
       "<matplotlib.figure.Figure at 0xb5f6a90>"
      ]
     },
     "metadata": {},
     "output_type": "display_data"
    }
   ],
   "source": [
    "data.loc[:, '3'].hist(figsize=(7, 4), bins=100)"
   ]
  },
  {
   "cell_type": "markdown",
   "metadata": {},
   "source": [
    "Seems correct.\n",
    "\n",
    "The histograms above show that, for that particular feature, there appears to be a concentration of sample values around -1, 0, and 1. Let's find out if there is a relationship between any of these three peaks and whether or not the target variable of the samples in question was 'good' or 'bad'. For that, I will write another function that plots two histogram on top of each other, coloring them according to their target variable values."
   ]
  },
  {
   "cell_type": "code",
   "execution_count": 14,
   "metadata": {
    "collapsed": false
   },
   "outputs": [],
   "source": [
    "def plot_histograms_by_target(**kwargs):\n",
    "    data_pairs_pos = sorted([(bin[0], count) for bin, count in\n",
    "                            kwargs['positive'][0].items()])\n",
    "    data_pairs_neg = sorted([(bin[0], count) for bin, count in\n",
    "                            kwargs['negative'][0].items()])\n",
    "    x_pos, y_pos = zip(*data_pairs_pos)\n",
    "    x_neg, y_neg = zip(*data_pairs_neg)\n",
    "    plt.figure(figsize=(7, 4))\n",
    "    plt.bar(left=x_pos, height=y_pos, width=kwargs['positive'][1],\n",
    "            alpha=.5, color='blue')\n",
    "    plt.bar(left=x_neg, height=y_neg, width=kwargs['negative'][1],\n",
    "            alpha=.5, color='orange')\n",
    "    plt.xlim(kwargs['min_val'] - kwargs['positive'][1], \n",
    "             kwargs['max_val'])\n",
    "    plt.show()\n",
    "    plt.close('all')"
   ]
  },
  {
   "cell_type": "code",
   "execution_count": 15,
   "metadata": {
    "collapsed": false
   },
   "outputs": [
    {
     "data": {
      "image/png": "[encoded data removed]",
      "text/plain": [
       "<matplotlib.figure.Figure at 0xb5f62b0>"
      ]
     },
     "metadata": {},
     "output_type": "display_data"
    }
   ],
   "source": [
    "g_series = data.loc[data['target'] == 'g', '3']\n",
    "b_series = data.loc[data['target'] == 'b', '3']\n",
    "min_val = min(min(g_series), min(b_series))\n",
    "max_val = max(max(g_series), max(b_series))\n",
    "plot_histograms_by_target(\n",
    "    positive=binned_histogram(g_series, 100, min_val, max_val),\n",
    "    negative=binned_histogram(b_series, 100, min_val, max_val),\n",
    "    min_val=min_val, max_val=max_val\n",
    ")"
   ]
  },
  {
   "cell_type": "markdown",
   "metadata": {},
   "source": [
    "Interestingly, the overlay of the two histograms according to their target value indicates that the two concentrations around -1 and 1, in the majority of cases, correspond to 'bad' readings whereas the concentration around 0 appears to be almost equally distributed among 'good' and 'bad' target values. \n",
    "\n",
    "This type of analysis could now be used for the rest of the variables in order to identify other variables that could turn out to be good predictors (possibly after some transformations) of the target variable. Given the number of features, however, I will omit this here. Instead, I will explore the data a bit further using principal components analysis (PCA)."
   ]
  },
  {
   "cell_type": "markdown",
   "metadata": {},
   "source": [
    "To calculate a PCA, I will need the covariance matrix of the features:"
   ]
  },
  {
   "cell_type": "code",
   "execution_count": 16,
   "metadata": {
    "collapsed": false
   },
   "outputs": [],
   "source": [
    "X = data.as_matrix()[:, :-1]\n",
    "X_centred = X - np.mean(X, axis=0)"
   ]
  },
  {
   "cell_type": "code",
   "execution_count": 17,
   "metadata": {
    "collapsed": false
   },
   "outputs": [],
   "source": [
    "cov_mat = (X_centred.T).dot(X_centred) / (X_centred.shape[0]-1)"
   ]
  },
  {
   "cell_type": "markdown",
   "metadata": {},
   "source": [
    "The principal components are nothing else but the eigenvectors of the covariance matrix:"
   ]
  },
  {
   "cell_type": "code",
   "execution_count": 18,
   "metadata": {
    "collapsed": false
   },
   "outputs": [],
   "source": [
    "cov_mat = cov_mat.astype(np.float64)\n",
    "princomps = np.linalg.eig(cov_mat)"
   ]
  },
  {
   "cell_type": "code",
   "execution_count": 19,
   "metadata": {
    "collapsed": false
   },
   "outputs": [
    {
     "name": "stdout",
     "output_type": "stream",
     "text": [
      "(array([ 2.90436153,  1.13708673,  0.69266341,  0.64279583,  0.45167303,\n",
      "        0.34064532,  0.27816012,  0.26632153,  0.25042157,  0.20886699,\n",
      "        0.19117632,  0.17037042,  0.16147008,  0.15246957,  0.02134866,\n",
      "        0.13388771,  0.12946504,  0.03121104,  0.0377422 ,  0.03978231,\n",
      "        0.04506265,  0.04815018,  0.05340651,  0.05760683,  0.06454805,\n",
      "        0.06699981,  0.07225005,  0.1188362 ,  0.0880885 ,  0.09342543,\n",
      "        0.10980726,  0.10096348,  0.10494425]), array([[-0.02325839, -0.00635553,  0.08183259, ..., -0.02209133,\n",
      "        -0.05125669, -0.03927536],\n",
      "       [-0.10138455, -0.07767383,  0.30494054, ..., -0.26768934,\n",
      "         0.3191141 ,  0.07597261],\n",
      "       [ 0.07201262, -0.04604199,  0.14870004, ..., -0.01811717,\n",
      "        -0.14071322, -0.24593471],\n",
      "       ..., \n",
      "       [-0.02009187, -0.173524  ,  0.13899732, ...,  0.03810156,\n",
      "         0.032129  ,  0.05001005],\n",
      "       [-0.20017617,  0.14413142,  0.21658876, ..., -0.10611353,\n",
      "        -0.18583495, -0.08591548],\n",
      "       [ 0.01747586, -0.14498102,  0.18385181, ..., -0.10526569,\n",
      "        -0.00861954, -0.22249622]]))\n"
     ]
    }
   ],
   "source": [
    "print(princomps)"
   ]
  },
  {
   "cell_type": "markdown",
   "metadata": {},
   "source": [
    "The first array are the eigenvalues, the second array are the corresponding eigenvectors. Interpretation-wise, the magnitude of the eigenvalues as a fraction of the sum of all eigenvalues gives the overall variance along the axis of the corresponding eigenvector.\n",
    "\n",
    "Let's compare with the PCA implementation from scikit-learn:"
   ]
  },
  {
   "cell_type": "code",
   "execution_count": 20,
   "metadata": {
    "collapsed": false
   },
   "outputs": [
    {
     "data": {
      "text/plain": [
       "PCA(copy=True, n_components=None, whiten=False)"
      ]
     },
     "execution_count": 20,
     "metadata": {},
     "output_type": "execute_result"
    }
   ],
   "source": [
    "pca = PCA()\n",
    "pca.fit(X_centred)"
   ]
  },
  {
   "cell_type": "code",
   "execution_count": 21,
   "metadata": {
    "collapsed": false
   },
   "outputs": [
    {
     "name": "stdout",
     "output_type": "stream",
     "text": [
      "[[-0.02325839 -0.00635553  0.08183259 ...,  0.57718291 -0.33591403\n",
      "   0.21739276]\n",
      " [-0.10138455 -0.07767383  0.30494054 ..., -0.13978823 -0.01663054\n",
      "  -0.16641603]\n",
      " [ 0.07201262 -0.04604199  0.14870004 ..., -0.02875172  0.05510034\n",
      "  -0.14428516]\n",
      " ..., \n",
      " [-0.02009187 -0.173524    0.13899732 ...,  0.02912933  0.07656747\n",
      "   0.15213392]\n",
      " [-0.20017617  0.14413142  0.21658876 ...,  0.30603865  0.25578736\n",
      "  -0.15173189]\n",
      " [ 0.01747586 -0.14498102  0.18385181 ...,  0.07506407  0.07102973\n",
      "  -0.22516923]]\n"
     ]
    }
   ],
   "source": [
    "print(pca.components_.T)"
   ]
  },
  {
   "cell_type": "markdown",
   "metadata": {},
   "source": [
    "Looking good; any discrepancies are very likely due to slight differences in the numerical algorithms used. For convenience, I'll use the scikit-learn class from now on."
   ]
  },
  {
   "cell_type": "markdown",
   "metadata": {},
   "source": [
    "To take a first look at the results of the PCA, let's put together a function for a scree plot:"
   ]
  },
  {
   "cell_type": "code",
   "execution_count": 22,
   "metadata": {
    "collapsed": true
   },
   "outputs": [],
   "source": [
    "def scree_plot(explained_var):\n",
    "    plt.figure(figsize=(7, 4))\n",
    "    plt.bar(left=range(len(explained_var)), height=explained_var)\n",
    "    plt.title('scree plot')\n",
    "    plt.xlabel('principal components')\n",
    "    plt.ylabel('% variance explained')\n",
    "    plt.show()\n",
    "    plt.close('all')"
   ]
  },
  {
   "cell_type": "code",
   "execution_count": 23,
   "metadata": {
    "collapsed": false
   },
   "outputs": [
    {
     "data": {
      "image/png": "[encoded data removed]",
      "text/plain": [
       "<matplotlib.figure.Figure at 0xbc84588>"
      ]
     },
     "metadata": {},
     "output_type": "display_data"
    }
   ],
   "source": [
    "scree_plot(pca.explained_variance_ratio_ * 100)"
   ]
  },
  {
   "cell_type": "markdown",
   "metadata": {},
   "source": [
    "This is a fairly typical result from a PCA; as can be seen from the plot, more than 30% of the total variance in the dataset is already captured by the first component, with the second PC still explaining about 12-13%. Afterwards, the variance explained per component drops off significantly. Assuming that in particular the later components mostly represent noise, one could use this insight when trying to predict 'good' and 'bad' target values by only using a subset of the components as features. I will explore how this impacts the prediction performance metrics in the prediction.ipynb notebook in this repository."
   ]
  },
  {
   "cell_type": "markdown",
   "metadata": {},
   "source": [
    "As the last step in this notebook for now, I will project the observations into the 2-dimensional space of the first two principal components and visualize them as a scatterplot by target values.\n",
    "\n",
    "First the projection:"
   ]
  },
  {
   "cell_type": "code",
   "execution_count": 24,
   "metadata": {
    "collapsed": false
   },
   "outputs": [],
   "source": [
    "projections = X_centred.dot(pca.components_.T)"
   ]
  },
  {
   "cell_type": "code",
   "execution_count": 27,
   "metadata": {
    "collapsed": false
   },
   "outputs": [],
   "source": [
    "def plot_projections(projections, target, x_axis, y_axis):\n",
    "    # this function assumes that the order of the rows has not\n",
    "    # changed throughout and that therefore the features can be\n",
    "    # correctly sliced by the indices in the target variable\n",
    "    x_g = projections[target == 'g', x_axis]\n",
    "    y_g = projections[target == 'g', y_axis]\n",
    "    x_b = projections[target == 'b', x_axis]\n",
    "    y_b = projections[target == 'b', y_axis]\n",
    "    plt.figure(figsize=(7, 4))\n",
    "    plt.scatter(x=x_g, y=y_g, c='blue')\n",
    "    plt.scatter(x=x_b, y=y_b, c='orange')\n",
    "    plt.xlabel('PC {}'.format(x_axis + 1))\n",
    "    plt.ylabel('PC {}'.format(y_axis + 1))\n",
    "    plt.show()\n",
    "    plt.close('all')"
   ]
  },
  {
   "cell_type": "code",
   "execution_count": 28,
   "metadata": {
    "collapsed": false
   },
   "outputs": [
    {
     "data": {
      "image/png": "[encoded data removed]",
      "text/plain": [
       "<matplotlib.figure.Figure at 0xbbdb9e8>"
      ]
     },
     "metadata": {},
     "output_type": "display_data"
    }
   ],
   "source": [
    "plot_projections(projections, np.array(data['target']), 0, 1)"
   ]
  },
  {
   "cell_type": "markdown",
   "metadata": {},
   "source": [
    "Looks like there is an area in the middle with a much higher concentration of 'bad' target values than elsewhere; however, there is a significant number of 'bad' observations in other parts, too. It will remain to be seen how well the use of additional components might improve the separability and predictive performance.\n",
    "\n",
    "Let's take a quick look at the 2D-plots of additional principal components."
   ]
  },
  {
   "cell_type": "code",
   "execution_count": 29,
   "metadata": {
    "collapsed": false
   },
   "outputs": [
    {
     "data": {
      "image/png": "[encoded data removed]",
      "text/plain": [
       "<matplotlib.figure.Figure at 0xbd50cf8>"
      ]
     },
     "metadata": {},
     "output_type": "display_data"
    }
   ],
   "source": [
    "plot_projections(projections, np.array(data['target']), 0, 2)"
   ]
  },
  {
   "cell_type": "code",
   "execution_count": 30,
   "metadata": {
    "collapsed": false
   },
   "outputs": [
    {
     "data": {
      "image/png": "[encoded data removed]",
      "text/plain": [
       "<matplotlib.figure.Figure at 0xbd4b710>"
      ]
     },
     "metadata": {},
     "output_type": "display_data"
    }
   ],
   "source": [
    "plot_projections(projections, np.array(data['target']), 1, 2)"
   ]
  }
 ],
 "metadata": {
  "anaconda-cloud": {},
  "kernelspec": {
   "display_name": "Python [default]",
   "language": "python",
   "name": "python3"
  },
  "language_info": {
   "codemirror_mode": {
    "name": "ipython",
    "version": 3
   },
   "file_extension": ".py",
   "mimetype": "text/x-python",
   "name": "python",
   "nbconvert_exporter": "python",
   "pygments_lexer": "ipython3",
   "version": "3.4.5"
  }
 },
 "nbformat": 4,
 "nbformat_minor": 0
}
